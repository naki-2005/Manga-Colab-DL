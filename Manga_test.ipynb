{
  "cells": [
    {
      "cell_type": "markdown",
      "metadata": {
        "id": "view-in-github",
        "colab_type": "text"
      },
      "source": [
        "<a href=\"https://colab.research.google.com/github/naki-2005/Manga-Colab-DL/blob/main/Manga_test.ipynb\" target=\"_parent\"><img src=\"https://colab.research.google.com/assets/colab-badge.svg\" alt=\"Open In Colab\"/></a>"
      ]
    },
    {
      "cell_type": "code",
      "execution_count": null,
      "metadata": {
        "id": "ukoCftXuB05k"
      },
      "outputs": [],
      "source": [
        "!apt install nodejs"
      ]
    },
    {
      "cell_type": "code",
      "source": [
        "!wget https://raw.githubusercontent.com/naki-2005/Manga-Colab-DL/main/mtv4.py"
      ],
      "metadata": {
        "id": "xWNn4VyB0D1P"
      },
      "execution_count": null,
      "outputs": []
    },
    {
      "cell_type": "code",
      "source": [
        "!wget https://raw.githubusercontent.com/naki-2005/Manga-Colab-DL/main/nm3.py"
      ],
      "metadata": {
        "id": "MYD1PQ3P0j1Q"
      },
      "execution_count": null,
      "outputs": []
    },
    {
      "cell_type": "code",
      "execution_count": null,
      "metadata": {
        "id": "DNTSJB1DCN3i"
      },
      "outputs": [],
      "source": [
        "!python3 mtv4.py"
      ]
    },
    {
      "cell_type": "code",
      "source": [
        "!python3 nm3.py"
      ],
      "metadata": {
        "id": "8lt-hhl-0pei"
      },
      "execution_count": null,
      "outputs": []
    },
    {
      "cell_type": "code",
      "execution_count": null,
      "metadata": {
        "id": "0NFcHmZhHci5"
      },
      "outputs": [],
      "source": [
        "import os\n",
        "import shutil\n",
        "\n",
        "# Montar Google Drive si no lo has hecho aún\n",
        "from google.colab import drive\n",
        "drive.mount('/content/drive')\n",
        "\n",
        "# Definir el nombre de la carpeta de manga\n",
        "manga = \"Nombre del manga Aqui\"\n",
        "\n",
        "# Ruta de destino usando f-string\n",
        "destino = f\"/content/drive/MyDrive/{manga}/\"\n",
        "\n",
        "# Obtener la primera palabra del nombre para usarla como filtro\n",
        "palabra_clave = manga.split()[0]\n",
        "\n",
        "# Crear la carpeta si no existe\n",
        "os.makedirs(destino, exist_ok=True)\n",
        "\n",
        "# Mover archivos que contengan la palabra clave en el nombre\n",
        "for archivo in os.listdir():\n",
        "    if os.path.isfile(archivo) and palabra_clave in archivo:\n",
        "        origen = os.path.abspath(archivo)\n",
        "        destino_final = os.path.join(destino, archivo)\n",
        "        shutil.move(origen, destino_final)\n",
        "        print(f\"✅ Movido: {archivo} → {destino_final}\")"
      ]
    }
  ],
  "metadata": {
    "colab": {
      "provenance": [],
      "mount_file_id": "1UPEfBt-vhLhia3Z3L4lRvwDttGfar5oI",
      "authorship_tag": "ABX9TyPHOVqqVvkNzY26ri+P66CM",
      "include_colab_link": true
    },
    "kernelspec": {
      "display_name": "Python 3",
      "name": "python3"
    },
    "language_info": {
      "name": "python"
    }
  },
  "nbformat": 4,
  "nbformat_minor": 0
}
